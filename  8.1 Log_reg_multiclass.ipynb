{
 "cells": [
  {
   "cell_type": "code",
   "execution_count": 1,
   "id": "a7a18a58",
   "metadata": {},
   "outputs": [
    {
     "name": "stdout",
     "output_type": "stream",
     "text": [
      "Accuracy of the logistic regression model: 1.0\n",
      "Predictions for the first 5 samples in the test dataset:\n",
      "Sample 1: Predicted class - versicolor\n",
      "Sample 2: Predicted class - setosa\n",
      "Sample 3: Predicted class - virginica\n",
      "Sample 4: Predicted class - versicolor\n",
      "Sample 5: Predicted class - versicolor\n"
     ]
    }
   ],
   "source": [
    "from sklearn.datasets import load_iris\n",
    "from sklearn.model_selection import train_test_split\n",
    "from sklearn.linear_model import LogisticRegression\n",
    "from sklearn.metrics import accuracy_score\n",
    "\n",
    "# Step 1: Load the Iris dataset\n",
    "iris = load_iris()\n",
    "X = iris.data\n",
    "y = iris.target\n",
    "\n",
    "# Step 2: Split the dataset into training and testing sets\n",
    "X_train, X_test, y_train, y_test = train_test_split(X, y, test_size=0.2, random_state=42)\n",
    "\n",
    "# Step 3: Train the logistic regression model\n",
    "model = LogisticRegression()\n",
    "model.fit(X_train, y_train)\n",
    "\n",
    "# Step 4: Evaluate the model\n",
    "y_pred = model.predict(X_test)\n",
    "accuracy = accuracy_score(y_test, y_pred)\n",
    "print(\"Accuracy of the logistic regression model:\", accuracy)\n",
    "\n",
    "# Step 5: Predict using the trained model\n",
    "# Let's predict the class of the first 5 samples in the test dataset\n",
    "print(\"Predictions for the first 5 samples in the test dataset:\")\n",
    "for i in range(5):\n",
    "    sample_features = X_test[i].reshape(1, -1)\n",
    "    prediction = model.predict(sample_features)\n",
    "    predicted_class = iris.target_names[prediction[0]]\n",
    "    print(f\"Sample {i+1}: Predicted class - {predicted_class}\")\n"
   ]
  }
 ],
 "metadata": {
  "kernelspec": {
   "display_name": "Python 3 (ipykernel)",
   "language": "python",
   "name": "python3"
  },
  "language_info": {
   "codemirror_mode": {
    "name": "ipython",
    "version": 3
   },
   "file_extension": ".py",
   "mimetype": "text/x-python",
   "name": "python",
   "nbconvert_exporter": "python",
   "pygments_lexer": "ipython3",
   "version": "3.11.3"
  }
 },
 "nbformat": 4,
 "nbformat_minor": 5
}
