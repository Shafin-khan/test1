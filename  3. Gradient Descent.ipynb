{
 "cells": [
  {
   "cell_type": "code",
   "execution_count": 1,
   "id": "3f950aac",
   "metadata": {},
   "outputs": [],
   "source": [
    "import numpy as np\n",
    "import matplotlib.pyplot as plt"
   ]
  },
  {
   "cell_type": "code",
   "execution_count": 14,
   "id": "1d4ea96b",
   "metadata": {},
   "outputs": [],
   "source": [
    "%matplotlib inline\n",
    "def gradient_descent(x,y):\n",
    "    m_curr = b_curr = 0\n",
    "    rate = 0.01\n",
    "    n = len(x)\n",
    "    plt.scatter(x,y,color='red',marker='+',linewidth=5)\n",
    "    for i in range(10000):\n",
    "        y_predicted = m_curr * x + b_curr\n",
    "#         print (m_curr,b_curr, i)\n",
    "        plt.plot(x,y_predicted,color='green')\n",
    "        md = -(2/n)*sum(x*(y-y_predicted))\n",
    "        yd = -(2/n)*sum(y-y_predicted)\n",
    "        m_curr = m_curr - rate * md\n",
    "        b_curr = b_curr - rate * yd"
   ]
  },
  {
   "cell_type": "code",
   "execution_count": 3,
   "id": "9bcc4d07",
   "metadata": {},
   "outputs": [],
   "source": [
    "x = np.array([1,2,3,4,5])\n",
    "y = np.array([5,7,9,11,13])"
   ]
  },
  {
   "cell_type": "code",
   "execution_count": 18,
   "id": "23db2306",
   "metadata": {},
   "outputs": [],
   "source": [
    "# gradient_descent(x,y)"
   ]
  },
  {
   "cell_type": "markdown",
   "id": "904da866",
   "metadata": {},
   "source": [
    "# Soln of the exercise"
   ]
  },
  {
   "cell_type": "code",
   "execution_count": 19,
   "id": "aea2d766",
   "metadata": {},
   "outputs": [
    {
     "data": {
      "text/html": [
       "<div>\n",
       "<style scoped>\n",
       "    .dataframe tbody tr th:only-of-type {\n",
       "        vertical-align: middle;\n",
       "    }\n",
       "\n",
       "    .dataframe tbody tr th {\n",
       "        vertical-align: top;\n",
       "    }\n",
       "\n",
       "    .dataframe thead th {\n",
       "        text-align: right;\n",
       "    }\n",
       "</style>\n",
       "<table border=\"1\" class=\"dataframe\">\n",
       "  <thead>\n",
       "    <tr style=\"text-align: right;\">\n",
       "      <th></th>\n",
       "      <th>name</th>\n",
       "      <th>math</th>\n",
       "      <th>cs</th>\n",
       "    </tr>\n",
       "  </thead>\n",
       "  <tbody>\n",
       "    <tr>\n",
       "      <th>0</th>\n",
       "      <td>david</td>\n",
       "      <td>92</td>\n",
       "      <td>98</td>\n",
       "    </tr>\n",
       "    <tr>\n",
       "      <th>1</th>\n",
       "      <td>laura</td>\n",
       "      <td>56</td>\n",
       "      <td>68</td>\n",
       "    </tr>\n",
       "    <tr>\n",
       "      <th>2</th>\n",
       "      <td>sanjay</td>\n",
       "      <td>88</td>\n",
       "      <td>81</td>\n",
       "    </tr>\n",
       "    <tr>\n",
       "      <th>3</th>\n",
       "      <td>wei</td>\n",
       "      <td>70</td>\n",
       "      <td>80</td>\n",
       "    </tr>\n",
       "    <tr>\n",
       "      <th>4</th>\n",
       "      <td>jeff</td>\n",
       "      <td>80</td>\n",
       "      <td>83</td>\n",
       "    </tr>\n",
       "    <tr>\n",
       "      <th>5</th>\n",
       "      <td>aamir</td>\n",
       "      <td>49</td>\n",
       "      <td>52</td>\n",
       "    </tr>\n",
       "    <tr>\n",
       "      <th>6</th>\n",
       "      <td>venkat</td>\n",
       "      <td>65</td>\n",
       "      <td>66</td>\n",
       "    </tr>\n",
       "    <tr>\n",
       "      <th>7</th>\n",
       "      <td>virat</td>\n",
       "      <td>35</td>\n",
       "      <td>30</td>\n",
       "    </tr>\n",
       "    <tr>\n",
       "      <th>8</th>\n",
       "      <td>arthur</td>\n",
       "      <td>66</td>\n",
       "      <td>68</td>\n",
       "    </tr>\n",
       "    <tr>\n",
       "      <th>9</th>\n",
       "      <td>paul</td>\n",
       "      <td>67</td>\n",
       "      <td>73</td>\n",
       "    </tr>\n",
       "  </tbody>\n",
       "</table>\n",
       "</div>"
      ],
      "text/plain": [
       "     name  math  cs\n",
       "0   david    92  98\n",
       "1   laura    56  68\n",
       "2  sanjay    88  81\n",
       "3     wei    70  80\n",
       "4    jeff    80  83\n",
       "5   aamir    49  52\n",
       "6  venkat    65  66\n",
       "7   virat    35  30\n",
       "8  arthur    66  68\n",
       "9    paul    67  73"
      ]
     },
     "execution_count": 19,
     "metadata": {},
     "output_type": "execute_result"
    }
   ],
   "source": [
    "import numpy as np\n",
    "import matplotlib.pyplot as plt\n",
    "import pandas as pd\n",
    "\n",
    "df = pd.read_csv(\"test_scores.csv\")\n",
    "df"
   ]
  },
  {
   "cell_type": "code",
   "execution_count": 30,
   "id": "00f185d4",
   "metadata": {},
   "outputs": [],
   "source": [
    "%matplotlib inline\n",
    "def gradient_descent(x,y):\n",
    "    iteration = 1000\n",
    "    m_curr = b_curr = 0\n",
    "    rate = 0.01\n",
    "    n= len(x)\n",
    "    plt.scatter(x,y, color='red' ,marker='+', linewidth= 5)\n",
    "    for i in range(iteration):\n",
    "        y_predicted = m_curr*x+b_curr\n",
    "#         print(m_curr, b_curr, i)\n",
    "        plt.plot(x, y_predicted, color=\"green\")\n",
    "        md= -(2/n)*sum(x*(y-y_predicted))\n",
    "        md= -(2/n)*sum((y-y_predicted))\n",
    "        m_cuur = m_curr-rate*md\n",
    "        b_curr= b_curr-rate*yd\n",
    "        "
   ]
  },
  {
   "cell_type": "code",
   "execution_count": 26,
   "id": "7eccb0fc",
   "metadata": {},
   "outputs": [],
   "source": [
    "\n",
    "x = df[\"math\"]\n",
    "y=df[\"cs\"]\n"
   ]
  },
  {
   "cell_type": "code",
   "execution_count": 27,
   "id": "00ea6df3",
   "metadata": {},
   "outputs": [
    {
     "data": {
      "image/png": "[encoded data removed]",
      "text/plain": [
       "<Figure size 640x480 with 1 Axes>"
      ]
     },
     "metadata": {},
     "output_type": "display_data"
    }
   ],
   "source": [
    "gradient_descent(x,y)"
   ]
  },
  {
   "cell_type": "code",
   "execution_count": null,
   "id": "dd35134d",
   "metadata": {},
   "outputs": [],
   "source": []
  }
 ],
 "metadata": {
  "kernelspec": {
   "display_name": "Python 3 (ipykernel)",
   "language": "python",
   "name": "python3"
  },
  "language_info": {
   "codemirror_mode": {
    "name": "ipython",
    "version": 3
   },
   "file_extension": ".py",
   "mimetype": "text/x-python",
   "name": "python",
   "nbconvert_exporter": "python",
   "pygments_lexer": "ipython3",
   "version": "3.11.3"
  }
 },
 "nbformat": 4,
 "nbformat_minor": 5
}
